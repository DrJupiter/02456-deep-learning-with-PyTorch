{
 "cells": [
  {
   "cell_type": "markdown",
   "metadata": {
    "colab_type": "text",
    "id": "bu1Wy6Xb81Sn"
   },
   "source": [
    "# Credits\n",
    "\n",
    "This is heavily influenced from https://github.com/pytorch/tutorials"
   ]
  },
  {
   "cell_type": "markdown",
   "metadata": {
    "colab_type": "text",
    "id": "oZW0gaQO81Sq"
   },
   "source": [
    "# CIFAR-10\n",
    "\n",
    "In this notebook you need to put what you have learned into practice, and create your own convolutional classifier for the CIFAR-10 dataset.\n",
    "\n",
    "It has the classes: ‘airplane’, ‘automobile’, ‘bird’, ‘cat’, ‘deer’, ‘dog’, ‘frog’, ‘horse’, ‘ship’, ‘truck’.\n",
    "The images in CIFAR-10 are of size 3x32x32, i.e. 3-channel color images of 32x32 pixels in size.\n",
    "\n",
    "![cifar10](https://github.com/DeepLearningDTU/02456-deep-learning-with-PyTorch/blob/master/static_files/cifar10.png?raw=1)\n",
    "\n",
    "\n",
    "In order to train a classifier the following steps needs to be performed:\n",
    "\n",
    "1. Load and normalizing the CIFAR10 training and test datasets using\n",
    "   ``torchvision``\n",
    "2. Define a Convolutional Neural Network\n",
    "3. Define a loss function\n",
    "4. Train the network on the training data\n",
    "5. Test the network on the test data\n",
    "\n",
    "We will help you along the way.\n",
    "We indicate the places you need to modify the code with `# Your code here!`.\n",
    "It is however a good idea to read the entire assignment before you begin coding!"
   ]
  },
  {
   "cell_type": "markdown",
   "metadata": {
    "colab_type": "text",
    "id": "htyg7xxN81St"
   },
   "source": [
    "## 1. Loading and normalizing CIFAR10\n",
    "\n",
    "Using ``torchvision``, it’s extremely easy to load CIFAR10."
   ]
  },
  {
   "cell_type": "code",
   "execution_count": 1,
   "metadata": {
    "colab": {},
    "colab_type": "code",
    "id": "v3u2GIWr81Su"
   },
   "outputs": [],
   "source": [
    "%matplotlib inline\n",
    "import matplotlib.pyplot as plt\n",
    "import numpy as np\n",
    "\n",
    "import torch\n",
    "import torchvision\n",
    "import torchvision.transforms as transforms"
   ]
  },
  {
   "cell_type": "markdown",
   "metadata": {
    "colab_type": "text",
    "id": "xx5SHRkm81S0"
   },
   "source": [
    "The output of torchvision datasets are PILImage images of range [0, 1].\n",
    "We transform them to Tensors of normalized range [-1, 1]\n",
    "\n",
    "**NB** Modify the code below to only use a small part of the dataset if your computer is very slow."
   ]
  },
  {
   "cell_type": "code",
   "execution_count": 2,
   "metadata": {
    "colab": {
     "base_uri": "https://localhost:8080/",
     "height": 68
    },
    "colab_type": "code",
    "id": "QZeTujLC81S3",
    "outputId": "656d4f5a-d1cc-4aa8-9fa6-94ac83d6c12e"
   },
   "outputs": [
    {
     "name": "stdout",
     "output_type": "stream",
     "text": [
      "Files already downloaded and verified\n",
      "Files already downloaded and verified\n",
      "used classes: ('plane', 'car', 'bird', 'cat', 'deer', 'dog', 'frog', 'horse', 'ship', 'truck')\n"
     ]
    }
   ],
   "source": [
    "transform = transforms.Compose(\n",
    "    [transforms.ToTensor(),\n",
    "     transforms.Normalize((0.5, 0.5, 0.5),(0.5, 0.5, 0.5))\n",
    "    ]\n",
    ")\n",
    "\n",
    "data_path =\"/home/kjb/Desktop/DTU - Deep Learning/02456-deep-learning-with-PyTorch/4_Convolutional/data\"\n",
    "# Load dataset\n",
    "trainset = torchvision.datasets.CIFAR10(root=data_path, train=True,\n",
    "                                        download=True, transform=transform)\n",
    "testset = torchvision.datasets.CIFAR10(root=data_path, train=False,\n",
    "                                       download=True, transform=transform)\n",
    "\n",
    "classes = ('plane', 'car', 'bird', 'cat', 'deer',\n",
    "           'dog', 'frog', 'horse', 'ship', 'truck')\n",
    "\n",
    "used_categories = range(len(classes))\n",
    "\n",
    "## USE CODE BELOW IF YOUR COMPUTER IS TOO SLOW\n",
    "reduce_dataset = False\n",
    "if reduce_dataset:\n",
    "    used_categories = (3, 5) # cats and dogs\n",
    "\n",
    "    classes = [classes[i] for i in used_categories]\n",
    "    new_train_data = []\n",
    "    new_train_labels = []\n",
    "\n",
    "    new_test_data = []\n",
    "    new_test_labels = []\n",
    "    for i, t in enumerate(used_categories):\n",
    "        new_train_data.append(trainset.data[np.where(np.array(trainset.targets) == t)])\n",
    "        new_train_labels += [i for _ in range(new_train_data[-1].shape[0])]\n",
    "\n",
    "        new_test_data.append(testset.data[np.where(np.array(testset.targets) == t)])\n",
    "        new_test_labels += [i for _ in range(new_test_data[-1].shape[0])]\n",
    "\n",
    "    new_train_data = np.concatenate(new_train_data, 0)\n",
    "    trainset.data = new_train_data\n",
    "    trainset.targets = new_train_labels\n",
    "\n",
    "    new_test_data = np.concatenate(new_test_data, 0)\n",
    "    testset.data = new_test_data\n",
    "    testset.targets = new_test_labels\n",
    "\n",
    "    \n",
    "trainloader = torch.utils.data.DataLoader(trainset, batch_size=4,\n",
    "                                          shuffle=True, num_workers=2)\n",
    "testloader = torch.utils.data.DataLoader(testset, batch_size=4,\n",
    "                                         shuffle=True, num_workers=2)\n",
    "train_data_iter = iter(trainloader)\n",
    "test_data_iter = iter(testloader)\n",
    "print('used classes:', classes)"
   ]
  },
  {
   "cell_type": "code",
   "execution_count": 3,
   "metadata": {
    "colab": {
     "base_uri": "https://localhost:8080/",
     "height": 153
    },
    "colab_type": "code",
    "id": "JDHkc52L81S9",
    "outputId": "d06106f2-f6b5-46be-9b46-07637861aa8c"
   },
   "outputs": [
    {
     "name": "stdout",
     "output_type": "stream",
     "text": [
      "# Training data\n",
      "Number of points: 50000\n",
      "Batch dimension [B x C x H x W]: torch.Size([4, 3, 32, 32])\n",
      "Number of distinct labels: 10\n",
      "\n",
      "# Test data\n",
      "Number of points: 10000\n",
      "Batch dimension [B x C x H x W]: torch.Size([4, 3, 32, 32])\n",
      "Number of distinct labels: 10\n"
     ]
    }
   ],
   "source": [
    "print(\"# Training data\")\n",
    "print(\"Number of points:\", len(trainset))\n",
    "x, y = next(iter(trainloader))\n",
    "print(\"Batch dimension [B x C x H x W]:\", x.shape)\n",
    "print(\"Number of distinct labels:\", len(set(trainset.targets)))\n",
    "\n",
    "\n",
    "print(\"\\n# Test data\")\n",
    "print(\"Number of points:\", len(testset))\n",
    "x, y = next(iter(testloader))\n",
    "print(\"Batch dimension [B x C x H x W]:\", x.shape)\n",
    "print(\"Number of distinct labels:\", len(set(testset.targets)))\n",
    "\n",
    "# Define input dimensions for cnn\n",
    "\n"
   ]
  },
  {
   "cell_type": "markdown",
   "metadata": {
    "colab_type": "text",
    "id": "xSA1h94681TB"
   },
   "source": [
    "Let us show some of the training images, for fun.\n",
    "\n"
   ]
  },
  {
   "cell_type": "code",
   "execution_count": 4,
   "metadata": {
    "colab": {
     "base_uri": "https://localhost:8080/",
     "height": 156
    },
    "colab_type": "code",
    "id": "njJy0klP81TD",
    "outputId": "693811f4-a8c1-41ce-d885-b3fbbaca8b46"
   },
   "outputs": [
    {
     "name": "stdout",
     "output_type": "stream",
     "text": [
      " deer   cat   car   cat\n"
     ]
    },
    {
     "data": {
      "image/png": "[encoded data removed]",
      "text/plain": [
       "<Figure size 432x288 with 1 Axes>"
      ]
     },
     "metadata": {
      "needs_background": "light"
     },
     "output_type": "display_data"
    }
   ],
   "source": [
    "# Run this cell multiple time to see more samples\n",
    "\n",
    "def imshow(img):\n",
    "    \"\"\" show an image \"\"\"\n",
    "    img = img / 2 + 0.5 # unnormalize\n",
    "    npimg = img.numpy()\n",
    "    plt.imshow(np.transpose(npimg, (1, 2, 0)))\n",
    "\n",
    "\n",
    "# get some random training images\n",
    "images, labels = train_data_iter.next()\n",
    "\n",
    "# show images\n",
    "imshow(torchvision.utils.make_grid(images))\n",
    "\n",
    "# print labels\n",
    "print(' '.join('%5s' % classes[labels[j]] for j in range(4)))"
   ]
  },
  {
   "cell_type": "markdown",
   "metadata": {
    "colab_type": "text",
    "id": "Wt3BVFMF81TI"
   },
   "source": [
    "## 2. Define a Convolutional Neural Network\n",
    "\n",
    "**Assignment 1:** Define a convolutional neural network. \n",
    "You may use the code from previous notebooks.\n",
    "We suggest that you start with a small network, and make sure that everything is working.\n",
    "Once you can train successfully come back and improve the architecture"
   ]
  },
  {
   "cell_type": "code",
   "execution_count": 5,
   "metadata": {},
   "outputs": [],
   "source": [
    "from math import floor\n",
    "\n",
    "def cnn_dims(data_size, kernel_size, stride, padding, filters):\n",
    "    _batch, in_channel, height, width = data_size\n",
    "    out_height = floor((height + 2 * padding[1] - (kernel_size[1]-1)-1)\n",
    "                             /stride[1] + 1)\n",
    "    out_width= floor((width + 2 * padding[0] - (kernel_size[0]-1)-1)\n",
    "                             /stride[0] + 1)\n",
    "    return [in_channel,kernel_size,stride,padding,filters, out_height,out_width]"
   ]
  },
  {
   "cell_type": "code",
   "execution_count": 6,
   "metadata": {
    "colab": {
     "base_uri": "https://localhost:8080/",
     "height": 34
    },
    "colab_type": "code",
    "id": "_EsKbw3o81TK",
    "outputId": "aad251c1-367f-4256-b96d-15d319048482"
   },
   "outputs": [
    {
     "name": "stdout",
     "output_type": "stream",
     "text": [
      "[3, (5, 5), (2, 2), (2, 2), 6, 16, 16]\n",
      "[6, (5, 5), (1, 1), (2, 2), 16, 16, 16]\n",
      "[16, (3, 3), (1, 1), (1, 1), 8, 16, 16]\n",
      "Net(\n",
      "  (conv1): Conv2d(3, 6, kernel_size=(5, 5), stride=(2, 2), padding=(2, 2))\n",
      "  (b_norm1): BatchNorm2d(6, eps=1e-05, momentum=0.1, affine=True, track_running_stats=True)\n",
      "  (conv2): Conv2d(6, 16, kernel_size=(5, 5), stride=(1, 1), padding=(2, 2))\n",
      "  (b_norm2): BatchNorm2d(16, eps=1e-05, momentum=0.1, affine=True, track_running_stats=True)\n",
      "  (conv3): Conv2d(16, 8, kernel_size=(3, 3), stride=(1, 1), padding=(1, 1))\n",
      "  (b_norm3): BatchNorm2d(8, eps=1e-05, momentum=0.1, affine=True, track_running_stats=True)\n",
      "  (l_1): Linear(in_features=2048, out_features=2048, bias=True)\n",
      "  (l_2): Linear(in_features=2048, out_features=10, bias=True)\n",
      ")\n"
     ]
    }
   ],
   "source": [
    "from torch.autograd import Variable\n",
    "import torch.nn as nn\n",
    "import torch.nn.functional as F\n",
    "\n",
    "from math import prod as product\n",
    "\n",
    "class Net(nn.Module):\n",
    "    def __init__(self, num_classes):\n",
    "        super(Net, self).__init__()\n",
    "        self.num_classes = num_classes\n",
    "        self.conv1_dims = cnn_dims(x.size(), (5,5),(2,2),(2,2),6)\n",
    "        print(self.conv1_dims)\n",
    "        # CNN\n",
    "        self.conv1 = nn.Conv2d( self.conv1_dims[0],\n",
    "                                self.conv1_dims[4],\n",
    "                                self.conv1_dims[1],\n",
    "                                self.conv1_dims[2],\n",
    "                                self.conv1_dims[3],)\n",
    "        self.b_norm1 = nn.BatchNorm2d(6)\n",
    "        \n",
    "        self.conv2_dims = cnn_dims([1, 6, 16, 16], (5,5),(1,1),(2,2),16)\n",
    "        print(self.conv2_dims)\n",
    "        # CNN\n",
    "        self.conv2 = nn.Conv2d( self.conv2_dims[0],\n",
    "                                self.conv2_dims[4],\n",
    "                                self.conv2_dims[1],\n",
    "                                self.conv2_dims[2],\n",
    "                                self.conv2_dims[3],)\n",
    "        self.b_norm2 = nn.BatchNorm2d(16)\n",
    "        \n",
    "        self.conv3_dims = cnn_dims([1, 16, 16, 16], (3,3),(1,1),(1,1),8)\n",
    "        print(self.conv3_dims)\n",
    "        # CNN\n",
    "        self.conv3 = nn.Conv2d( self.conv3_dims[0],\n",
    "                                self.conv3_dims[4],\n",
    "                                self.conv3_dims[1],\n",
    "                                self.conv3_dims[2],\n",
    "                                self.conv3_dims[3],)\n",
    "        self.b_norm3 = nn.BatchNorm2d(8)\n",
    "        \n",
    "        self.act_fn = F.relu\n",
    "        self.l_1 = nn.Linear(product(self.conv3_dims[4:7]), product(self.conv3_dims[4:7]))\n",
    "        self.l_2 = nn.Linear(product(self.conv3_dims[4:7]), self.num_classes)\n",
    "        \n",
    "   \n",
    "\n",
    "    def forward(self, x):\n",
    "        x = self.conv1(x)\n",
    "        x = self.b_norm1(x)\n",
    "        x = self.act_fn(x)\n",
    "        \n",
    "        x = self.conv2(x)\n",
    "        x = self.b_norm2(x)\n",
    "        x = self.act_fn(x)\n",
    "        \n",
    "        x = self.conv3(x)\n",
    "        x = self.b_norm3(x)\n",
    "        x = self.act_fn(x)  \n",
    "        \n",
    "        x = x.view(-1, self.l_1.in_features)\n",
    "\n",
    "        x = self.l_1(x)\n",
    "        x = self.act_fn(x)\n",
    "        x = self.l_2(x)\n",
    "        x = self.act_fn(x)\n",
    "\n",
    "        # Your code here!\n",
    "        return F.softmax(x, dim=1)\n",
    "    \n",
    "\n",
    "net = Net(len(used_categories))\n",
    "net.cuda()\n",
    "print(net)"
   ]
  },
  {
   "cell_type": "code",
   "execution_count": 7,
   "metadata": {},
   "outputs": [
    {
     "data": {
      "text/plain": [
       "torch.Size([1, 10])"
      ]
     },
     "execution_count": 7,
     "metadata": {},
     "output_type": "execute_result"
    }
   ],
   "source": [
    "net(torch.unsqueeze(x[0],0).cuda()).size()"
   ]
  },
  {
   "cell_type": "markdown",
   "metadata": {
    "colab_type": "text",
    "id": "7-IUg3sq81TQ"
   },
   "source": [
    "## 3. Define a Loss function and optimizer\n",
    "\n",
    "**Assignment 2:** Implement the criterion and optimizer. \n",
    "We suggest Classification Cross-Entropy loss and SGD with momentum.\n",
    "You might need to experiment a bit with the learning rate."
   ]
  },
  {
   "cell_type": "code",
   "execution_count": 8,
   "metadata": {
    "colab": {},
    "colab_type": "code",
    "id": "48AX85QP81TR"
   },
   "outputs": [],
   "source": [
    "import torch.optim as optim\n",
    "\n",
    "criterion = nn.CrossEntropyLoss()  # Your code here!\n",
    "optimizer = optim.SGD(net.parameters(), lr=0.001, momentum=0.9)  # Your code here!"
   ]
  },
  {
   "cell_type": "markdown",
   "metadata": {
    "colab_type": "text",
    "id": "-WneIN7C81TV"
   },
   "source": [
    "## 4. Train the network\n",
    "\n",
    "**Assignment 3:** Finish the training loop below. \n",
    "Start by using a small number of epochs (e.g. 3).\n",
    "Even with a low number of epochs you should be able to see results that are better than chance.\n",
    "When everything is working increase the number of epochs to find out how good your network really is."
   ]
  },
  {
   "cell_type": "code",
   "execution_count": 9,
   "metadata": {
    "colab": {},
    "colab_type": "code",
    "id": "NkUanRRb81TW"
   },
   "outputs": [
    {
     "name": "stdout",
     "output_type": "stream",
     "text": [
      "[1,  1000] loss: 2.284\n",
      "[1,  2000] loss: 2.233\n",
      "[1,  3000] loss: 2.201\n",
      "[1,  4000] loss: 2.155\n",
      "[1,  5000] loss: 2.132\n",
      "[1,  6000] loss: 2.112\n",
      "[1,  7000] loss: 2.112\n",
      "[1,  8000] loss: 2.082\n",
      "[1,  9000] loss: 2.096\n",
      "[1, 10000] loss: 2.082\n",
      "[1, 11000] loss: 2.071\n",
      "[1, 12000] loss: 2.066\n",
      "[2,  1000] loss: 2.065\n",
      "[2,  2000] loss: 2.051\n",
      "[2,  3000] loss: 2.052\n",
      "[2,  4000] loss: 2.051\n",
      "[2,  5000] loss: 2.064\n",
      "[2,  6000] loss: 2.044\n",
      "[2,  7000] loss: 2.056\n",
      "[2,  8000] loss: 2.039\n",
      "[2,  9000] loss: 2.041\n",
      "[2, 10000] loss: 2.044\n",
      "[2, 11000] loss: 2.035\n",
      "[2, 12000] loss: 2.039\n",
      "[3,  1000] loss: 2.023\n",
      "[3,  2000] loss: 2.013\n",
      "[3,  3000] loss: 2.015\n",
      "[3,  4000] loss: 2.023\n",
      "[3,  5000] loss: 2.012\n",
      "[3,  6000] loss: 2.010\n",
      "[3,  7000] loss: 2.007\n",
      "[3,  8000] loss: 2.014\n",
      "[3,  9000] loss: 2.012\n",
      "[3, 10000] loss: 2.007\n",
      "[3, 11000] loss: 2.000\n",
      "[3, 12000] loss: 2.008\n",
      "[4,  1000] loss: 2.004\n",
      "[4,  2000] loss: 2.003\n",
      "[4,  3000] loss: 1.989\n",
      "[4,  4000] loss: 1.982\n",
      "[4,  5000] loss: 1.977\n",
      "[4,  6000] loss: 2.008\n",
      "[4,  7000] loss: 1.993\n",
      "[4,  8000] loss: 1.984\n",
      "[4,  9000] loss: 1.973\n",
      "[4, 10000] loss: 1.980\n",
      "[4, 11000] loss: 1.973\n",
      "[4, 12000] loss: 1.978\n",
      "[5,  1000] loss: 1.976\n",
      "[5,  2000] loss: 1.976\n",
      "[5,  3000] loss: 1.959\n",
      "[5,  4000] loss: 1.968\n",
      "[5,  5000] loss: 1.975\n",
      "[5,  6000] loss: 1.965\n",
      "[5,  7000] loss: 1.949\n",
      "[5,  8000] loss: 1.963\n",
      "[5,  9000] loss: 1.962\n",
      "[5, 10000] loss: 1.976\n",
      "[5, 11000] loss: 1.963\n",
      "[5, 12000] loss: 1.956\n",
      "[6,  1000] loss: 1.940\n",
      "[6,  2000] loss: 1.931\n",
      "[6,  3000] loss: 1.917\n",
      "[6,  4000] loss: 1.927\n",
      "[6,  5000] loss: 1.895\n",
      "[6,  6000] loss: 1.929\n",
      "[6,  7000] loss: 1.903\n",
      "[6,  8000] loss: 1.911\n",
      "[6,  9000] loss: 1.903\n",
      "[6, 10000] loss: 1.901\n",
      "[6, 11000] loss: 1.912\n",
      "[6, 12000] loss: 1.917\n",
      "[7,  1000] loss: 1.873\n",
      "[7,  2000] loss: 1.875\n",
      "[7,  3000] loss: 1.873\n",
      "[7,  4000] loss: 1.883\n",
      "[7,  5000] loss: 1.895\n",
      "[7,  6000] loss: 1.892\n",
      "[7,  7000] loss: 1.882\n",
      "[7,  8000] loss: 1.885\n",
      "[7,  9000] loss: 1.879\n",
      "[7, 10000] loss: 1.884\n",
      "[7, 11000] loss: 1.887\n",
      "[7, 12000] loss: 1.877\n",
      "[8,  1000] loss: 1.858\n",
      "[8,  2000] loss: 1.861\n",
      "[8,  3000] loss: 1.856\n",
      "[8,  4000] loss: 1.854\n",
      "[8,  5000] loss: 1.864\n",
      "[8,  6000] loss: 1.868\n",
      "[8,  7000] loss: 1.862\n",
      "[8,  8000] loss: 1.843\n",
      "[8,  9000] loss: 1.848\n",
      "[8, 10000] loss: 1.857\n",
      "[8, 11000] loss: 1.862\n",
      "[8, 12000] loss: 1.859\n",
      "[9,  1000] loss: 1.830\n",
      "[9,  2000] loss: 1.836\n",
      "[9,  3000] loss: 1.828\n",
      "[9,  4000] loss: 1.842\n",
      "[9,  5000] loss: 1.829\n",
      "[9,  6000] loss: 1.826\n",
      "[9,  7000] loss: 1.830\n",
      "[9,  8000] loss: 1.825\n",
      "[9,  9000] loss: 1.830\n",
      "[9, 10000] loss: 1.830\n",
      "[9, 11000] loss: 1.834\n",
      "[9, 12000] loss: 1.837\n",
      "[10,  1000] loss: 1.811\n",
      "[10,  2000] loss: 1.794\n",
      "[10,  3000] loss: 1.798\n",
      "[10,  4000] loss: 1.797\n",
      "[10,  5000] loss: 1.817\n",
      "[10,  6000] loss: 1.801\n",
      "[10,  7000] loss: 1.808\n",
      "[10,  8000] loss: 1.813\n",
      "[10,  9000] loss: 1.808\n",
      "[10, 10000] loss: 1.804\n",
      "[10, 11000] loss: 1.799\n",
      "[10, 12000] loss: 1.818\n",
      "[11,  1000] loss: 1.775\n",
      "[11,  2000] loss: 1.775\n",
      "[11,  3000] loss: 1.779\n",
      "[11,  4000] loss: 1.772\n",
      "[11,  5000] loss: 1.785\n",
      "[11,  6000] loss: 1.782\n",
      "[11,  7000] loss: 1.784\n",
      "[11,  8000] loss: 1.787\n",
      "[11,  9000] loss: 1.784\n",
      "[11, 10000] loss: 1.785\n",
      "[11, 11000] loss: 1.773\n",
      "[11, 12000] loss: 1.780\n",
      "[12,  1000] loss: 1.748\n",
      "[12,  2000] loss: 1.755\n",
      "[12,  3000] loss: 1.761\n",
      "[12,  4000] loss: 1.752\n",
      "[12,  5000] loss: 1.752\n",
      "[12,  6000] loss: 1.760\n",
      "[12,  7000] loss: 1.758\n",
      "[12,  8000] loss: 1.760\n",
      "[12,  9000] loss: 1.742\n",
      "[12, 10000] loss: 1.757\n",
      "[12, 11000] loss: 1.755\n",
      "[12, 12000] loss: 1.762\n",
      "[13,  1000] loss: 1.720\n",
      "[13,  2000] loss: 1.735\n",
      "[13,  3000] loss: 1.736\n",
      "[13,  4000] loss: 1.726\n",
      "[13,  5000] loss: 1.732\n",
      "[13,  6000] loss: 1.727\n",
      "[13,  7000] loss: 1.726\n",
      "[13,  8000] loss: 1.726\n",
      "[13,  9000] loss: 1.720\n",
      "[13, 10000] loss: 1.714\n",
      "[13, 11000] loss: 1.718\n",
      "[13, 12000] loss: 1.718\n",
      "[14,  1000] loss: 1.680\n",
      "[14,  2000] loss: 1.668\n",
      "[14,  3000] loss: 1.667\n",
      "[14,  4000] loss: 1.670\n",
      "[14,  5000] loss: 1.683\n",
      "[14,  6000] loss: 1.677\n",
      "[14,  7000] loss: 1.680\n",
      "[14,  8000] loss: 1.678\n",
      "[14,  9000] loss: 1.679\n",
      "[14, 10000] loss: 1.684\n",
      "[14, 11000] loss: 1.678\n",
      "[14, 12000] loss: 1.690\n",
      "[15,  1000] loss: 1.641\n",
      "[15,  2000] loss: 1.646\n",
      "[15,  3000] loss: 1.649\n",
      "[15,  4000] loss: 1.647\n",
      "[15,  5000] loss: 1.644\n",
      "[15,  6000] loss: 1.656\n",
      "[15,  7000] loss: 1.653\n",
      "[15,  8000] loss: 1.650\n",
      "[15,  9000] loss: 1.650\n",
      "[15, 10000] loss: 1.657\n",
      "[15, 11000] loss: 1.650\n",
      "[15, 12000] loss: 1.648\n",
      "[16,  1000] loss: 1.621\n",
      "[16,  2000] loss: 1.628\n",
      "[16,  3000] loss: 1.623\n",
      "[16,  4000] loss: 1.633\n",
      "[16,  5000] loss: 1.614\n",
      "[16,  6000] loss: 1.622\n",
      "[16,  7000] loss: 1.637\n",
      "[16,  8000] loss: 1.641\n",
      "[16,  9000] loss: 1.635\n",
      "[16, 10000] loss: 1.627\n",
      "[16, 11000] loss: 1.633\n",
      "[16, 12000] loss: 1.640\n",
      "[17,  1000] loss: 1.615\n",
      "[17,  2000] loss: 1.608\n",
      "[17,  3000] loss: 1.606\n",
      "[17,  4000] loss: 1.605\n",
      "[17,  5000] loss: 1.606\n",
      "[17,  6000] loss: 1.610\n",
      "[17,  7000] loss: 1.610\n",
      "[17,  8000] loss: 1.603\n",
      "[17,  9000] loss: 1.617\n",
      "[17, 10000] loss: 1.608\n",
      "[17, 11000] loss: 1.614\n",
      "[17, 12000] loss: 1.612\n",
      "[18,  1000] loss: 1.589\n",
      "[18,  2000] loss: 1.590\n",
      "[18,  3000] loss: 1.592\n",
      "[18,  4000] loss: 1.591\n",
      "[18,  5000] loss: 1.589\n",
      "[18,  6000] loss: 1.591\n",
      "[18,  7000] loss: 1.592\n",
      "[18,  8000] loss: 1.587\n",
      "[18,  9000] loss: 1.590\n",
      "[18, 10000] loss: 1.591\n",
      "[18, 11000] loss: 1.599\n",
      "[18, 12000] loss: 1.596\n",
      "[19,  1000] loss: 1.573\n",
      "[19,  2000] loss: 1.578\n",
      "[19,  3000] loss: 1.576\n",
      "[19,  4000] loss: 1.573\n",
      "[19,  5000] loss: 1.575\n",
      "[19,  6000] loss: 1.579\n",
      "[19,  7000] loss: 1.583\n",
      "[19,  8000] loss: 1.577\n",
      "[19,  9000] loss: 1.583\n",
      "[19, 10000] loss: 1.579\n",
      "[19, 11000] loss: 1.587\n",
      "[19, 12000] loss: 1.585\n",
      "[20,  1000] loss: 1.566\n",
      "[20,  2000] loss: 1.559\n",
      "[20,  3000] loss: 1.573\n",
      "[20,  4000] loss: 1.568\n",
      "[20,  5000] loss: 1.570\n",
      "[20,  6000] loss: 1.571\n",
      "[20,  7000] loss: 1.571\n",
      "[20,  8000] loss: 1.577\n",
      "[20,  9000] loss: 1.572\n",
      "[20, 10000] loss: 1.563\n",
      "[20, 11000] loss: 1.572\n",
      "[20, 12000] loss: 1.572\n",
      "Finished Training\n"
     ]
    }
   ],
   "source": [
    "num_epoch = 20  # Your code here!\n",
    "\n",
    "for epoch in range(num_epoch):  # loop over the dataset multiple times\n",
    "\n",
    "    running_loss = 0.0\n",
    "    for i, data in enumerate(trainloader, 0):\n",
    "        # get the inputs\n",
    "        inputs, labels = data\n",
    "\n",
    "        # wrap them in Variable\n",
    "        inputs, labels = Variable(inputs.cuda()), Variable(labels.cuda())\n",
    "        # zero the parameter gradients\n",
    "        \n",
    "\n",
    "        # forward + backward + optimize\n",
    "        # Your code here!\n",
    "        loss = criterion(net(inputs),labels)\n",
    "        optimizer.zero_grad()\n",
    "        loss.backward()\n",
    "        optimizer.step()\n",
    "\n",
    "        # print statistics\n",
    "        running_loss += loss.item()\n",
    "        if i % 1000 == 999:    # print every 1000 mini-batches\n",
    "            print('[%d, %5d] loss: %.3f' %\n",
    "                  (epoch + 1, i + 1, running_loss / 1000))\n",
    "            running_loss = 0.0\n",
    "\n",
    "print('Finished Training')"
   ]
  },
  {
   "cell_type": "markdown",
   "metadata": {
    "colab_type": "text",
    "id": "0qAsbC8I81Ta"
   },
   "source": [
    "## 5. Test the network on the test data\n",
    "\n",
    "Now we need to check if the network has learnt anything at all.\n",
    "We will check this by predicting the class label that the neural network outputs, and checking it against the ground truth.\n",
    "If the prediction is correct, we add the sample to the list of correct predictions.\n",
    "\n",
    "Okay, first step. Let us display an image from the test set to get familiar."
   ]
  },
  {
   "cell_type": "code",
   "execution_count": 10,
   "metadata": {
    "colab": {},
    "colab_type": "code",
    "id": "7LT0RoAC81Tc"
   },
   "outputs": [
    {
     "data": {
      "image/png": "[encoded data removed]",
      "text/plain": [
       "<Figure size 432x288 with 1 Axes>"
      ]
     },
     "metadata": {
      "needs_background": "light"
     },
     "output_type": "display_data"
    },
    {
     "name": "stdout",
     "output_type": "stream",
     "text": [
      "GroundTruth:     dog  bird horse horse\n",
      "Predicted:      frog  bird horse horse\n"
     ]
    }
   ],
   "source": [
    "images, labels = test_data_iter.next()\n",
    "\n",
    "# print images\n",
    "imshow(torchvision.utils.make_grid(images))\n",
    "plt.show()\n",
    "\n",
    "print('GroundTruth:  ', ' '.join('%5s' % classes[labels[j]] for j in range(4)))\n",
    "\n",
    "outputs = net(images.cuda())\n",
    "_, predicted = torch.max(outputs.data, 1)\n",
    "print('Predicted:    ', ' '.join('%5s' % classes[predicted[j]] for j in range(4)))"
   ]
  },
  {
   "cell_type": "markdown",
   "metadata": {
    "colab_type": "text",
    "id": "ISA6LJJO81Tg"
   },
   "source": [
    "Let us look at how the network performs on the whole dataset."
   ]
  },
  {
   "cell_type": "code",
   "execution_count": 11,
   "metadata": {
    "colab": {},
    "colab_type": "code",
    "id": "Smv6_BwF81Ti"
   },
   "outputs": [
    {
     "name": "stdout",
     "output_type": "stream",
     "text": [
      "Accuracy of the network on the 10000 test images: 64.43 %\n"
     ]
    }
   ],
   "source": [
    "correct = 0\n",
    "total = 0\n",
    "\n",
    "for data in testloader:\n",
    "    images, labels = data\n",
    "    images, labels = images.cuda(), labels.cuda()\n",
    "    outputs = net(Variable(images))\n",
    "    _, predicted = torch.max(outputs.data, 1)\n",
    "    total += labels.size(0)\n",
    "    correct += (predicted == labels).sum()\n",
    "\n",
    "print('Accuracy of the network on the {} test images: {:4.2f} %'.format(\n",
    "    testset.data.shape[0], 100 * correct.true_divide(total)))"
   ]
  },
  {
   "cell_type": "markdown",
   "metadata": {
    "colab_type": "text",
    "id": "QMZRvhaW81Tl"
   },
   "source": [
    "Hopefully the network is better than chance, which is $\\frac{1}{\\text{number of classes}}$ accuracy (randomly picking\n",
    "a class).\n",
    "\n",
    "\n",
    "We can also examine which class the network found the most difficult (makes more sense if you have many clases):"
   ]
  },
  {
   "cell_type": "code",
   "execution_count": 12,
   "metadata": {
    "colab": {},
    "colab_type": "code",
    "id": "WqVTQgKq81Tl"
   },
   "outputs": [
    {
     "name": "stdout",
     "output_type": "stream",
     "text": [
      "Accuracy of plane : 72.60 %\n",
      "Accuracy of car   : 79.00 %\n",
      "Accuracy of bird  : 49.10 %\n",
      "Accuracy of cat   : 45.00 %\n",
      "Accuracy of deer  : 57.20 %\n",
      "Accuracy of dog   : 50.50 %\n",
      "Accuracy of frog  : 77.20 %\n",
      "Accuracy of horse : 69.20 %\n",
      "Accuracy of ship  : 78.80 %\n",
      "Accuracy of truck : 62.00 %\n"
     ]
    }
   ],
   "source": [
    "class_total = list(0. for i in range(len(classes)))\n",
    "class_correct = list(0. for i in range(len(classes)))\n",
    "\n",
    "for data in testloader:\n",
    "    images, labels = data\n",
    "    images, labels = images.cuda(), labels.cuda()\n",
    "    outputs = net(Variable(images))\n",
    "    _, predicted = torch.max(outputs.data, 1)\n",
    "    c = (predicted == labels).squeeze()\n",
    "    \n",
    "    for i in range(len(c)):\n",
    "        label = labels[i]\n",
    "        class_correct[label] += c[i].cpu().numpy()\n",
    "        class_total[label] += 1\n",
    "\n",
    "for i in range(len(classes)):\n",
    "    print('Accuracy of {:5s} : {:5.2f} %'.format(\n",
    "        classes[i], 100 * class_correct[i] / class_total[i]))"
   ]
  },
  {
   "cell_type": "markdown",
   "metadata": {
    "colab_type": "text",
    "id": "ocnQOBAl81Tn"
   },
   "source": [
    "**Assignment 4:** \n",
    "1. Go back and improve performance of the network. \n",
    " * If you are using all 10 classes you should get a test accuracy above 55%, but see how much further you can get it!\n",
    " * If you are using only 2 classes (e.g. cat and dog) you should get a test accuracy above 60%, but see how much further you can get it!\n",
    "\n",
    "2. Briefly describe what you did and any experiments you did along the way as well as what results you obtained.\n",
    "Did anything surprise you during the exercise?\n",
    "\n",
    "3. Write down key lessons/insights you got (if any) during this exercise.\n",
    "\n",
    "**Answer:**\n",
    "\n",
    "1. I end up with an accuracy of ca. 64.43 % for 10 class classification after modifying my network to include batchnorm and 3 convelutional layers\n",
    "\n",
    "2. I experimented with different levels of stride and output channels as well as a little with the momentum in the SGD optimizer. I also experimented with where the batch should be normalized: after or before applying the activation function. (3.) I found that adding it before the activation function worked better."
   ]
  },
  {
   "cell_type": "markdown",
   "metadata": {
    "colab_type": "text",
    "id": "8Nzefavy81To"
   },
   "source": [
    "# Training on GPU\n",
    "\n",
    "**Optional Assignment:**\n",
    "If you have a GPU we suggest that you try and rewrite the code above to run on the GPU\n",
    "___\n",
    "\n",
    "Just like how you transfer a Tensor on to the GPU, you transfer the neural net onto the GPU.\n",
    "This will recursively go over all modules and convert their parameters and buffers to CUDA tensors:\n",
    "\n",
    "```\n",
    "    net.cuda()\n",
    "```\n",
    "\n",
    "Remember that you will have to send the inputs and targets at every step to the GPU too:\n",
    "\n",
    "```\n",
    "    inputs, labels = Variable(inputs.cuda()), Variable(labels.cuda())\n",
    "```\n",
    "\n",
    "Why dont I notice MASSIVE speedup compared to CPU? \n",
    "Because your network is realllly small.\n",
    "\n",
    "**Exercise:** Try increasing the width of your network (argument 2 of\n",
    "the first ``nn.Conv2d``, and argument 1 of the second ``nn.Conv2d`` –\n",
    "they need to be the same number), see what kind of speedup you get.\n",
    "\n",
    "**Goals achieved**:\n",
    "\n",
    "- Understanding PyTorch's Tensor library and neural networks at a high level.\n",
    "- Train a small neural network to classify images\n",
    "\n",
    "## Setting up GPU in Colab\n",
    "\n",
    "In Colab, you will get 12 hours of execution time but the session will be disconnected if you are idle for more than 60 minutes. It means that for every 12 hours Disk, RAM, CPU Cache and the Data that is on our allocated virtual machine will get erased.\n",
    "\n",
    "To enable GPU hardware accelerator, just go to **Runtime -> Change runtime type -> Hardware accelerator -> GPU**"
   ]
  },
  {
   "cell_type": "markdown",
   "metadata": {
    "colab_type": "text",
    "id": "b8mEIylU81Tp"
   },
   "source": [
    "# Michael Nielsen book exercise of own choice\n",
    "\n",
    "**Assignment 5:** Pick an exercise of own choice from [Michael Nielsens book](http://neuralnetworksanddeeplearning.com/)\n",
    "\n",
    "**Exercise**\n",
    "\n",
    "- Let $\\sigma(z) = \\cfrac{1}{1+\\exp(-z)}$. Show that $\\sigma'(z) = \\sigma(z) \\cdot (1-\\sigma(z))$\n",
    "\n",
    "**Answer:**\n",
    "\n",
    "$$\\sigma(z) = \\cfrac{1}{1+\\exp(-z)} = (\\underbrace{1+\\exp(-z)}_{c(z)})^{-1}$$\n",
    "$$\\implies \\frac{d}{dz} \\sigma(z) = \\cfrac{d}{d c} c(z)^{-1} \\cdot \\cfrac{d}{dz} c(z) = -1 c(z)^{-2} \\cdot (-1) \\exp(-z) = \\cfrac{1}{(1+\\exp(-z))^{2}} \\cdot \\exp(-z) $$\n",
    "\n",
    "$$ \\cfrac{1}{(1+\\exp(-z))^{2}} \\cdot \\exp(-z) =\\cfrac{1}{1+\\exp(-z)} \\cdot \\cfrac{\\exp(-z)}{1+\\exp(-z)} $$\n",
    "\n",
    "We then add and subtract one in the numerator of the right fraction\n",
    "\n",
    "$$ \\cfrac{1}{1+\\exp(-z)} \\cdot \\cfrac{\\exp(-z)}{1+\\exp(-z)} = \\cfrac{1}{1+\\exp(-z)} \\cdot \\cfrac{1+\\exp(-z)-1}{1+\\exp(-z)} = \\sigma(z) \\cdot \\left(\\cfrac{1+\\exp(-z)}{1+\\exp(-z)} - \\cfrac{1}{1+\\exp(-z)} \\right) = \\sigma(z) \\cdot (1-\\sigma(z)) $$\n",
    "\n"
   ]
  }
 ],
 "metadata": {
  "accelerator": "GPU",
  "colab": {
   "name": "Copy of 4.3-EXE-CIFAR-10.ipynb",
   "provenance": []
  },
  "kernelspec": {
   "display_name": "Python 3",
   "language": "python",
   "name": "python3"
  },
  "language_info": {
   "codemirror_mode": {
    "name": "ipython",
    "version": 3
   },
   "file_extension": ".py",
   "mimetype": "text/x-python",
   "name": "python",
   "nbconvert_exporter": "python",
   "pygments_lexer": "ipython3",
   "version": "3.8.10"
  }
 },
 "nbformat": 4,
 "nbformat_minor": 4
}
